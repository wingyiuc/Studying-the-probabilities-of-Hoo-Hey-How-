{
 "cells": [
  {
   "cell_type": "markdown",
   "metadata": {},
   "source": [
    "# Studying the probabilities of Hoo Hey How (魚蝦蟹) \n",
    "Hoo Hey How is a Chinese dice-game. Here we just focus on a simplified version of the game: there are 3 dies and each player can put their bet(s) on 1-6. Consider player1 only places one bet every time; player2 bets on two different numbers every time. Return is 1-1."
   ]
  },
  {
   "cell_type": "markdown",
   "metadata": {},
   "source": [
    "### Here you can run the cells and see the different outcomes"
   ]
  },
  {
   "cell_type": "code",
   "execution_count": 112,
   "metadata": {},
   "outputs": [],
   "source": [
    "# Input: choices (list), dice (list)\n",
    "# Output: total gain (int), at least one correct (1 or 0)\n",
    "# Function: Given the Fish/Shrimp/Crab choices, and the results of the 3 dies, \n",
    "# find the total gain and whether at least one choice was matched \n",
    "gain =function(choices, dice){\n",
    "\n",
    "    total_gain = 0\n",
    "    at_least_one = FALSE \n",
    "    for(choice in choices){\n",
    "        if(choice %in% dice){\n",
    "            total_gain = total_gain + sum(dice==choice)\n",
    "            at_least_one = TRUE\n",
    "        }\n",
    "        else{\n",
    "            total_gain = total_gain - 1\n",
    "        }\n",
    "    }\n",
    "    count = ifelse(at_least_one,1,0)\n",
    "    return(c(total_gain, count))\n",
    "}"
   ]
  },
  {
   "cell_type": "code",
   "execution_count": 107,
   "metadata": {},
   "outputs": [
    {
     "name": "stdout",
     "output_type": "stream",
     "text": [
      "[1] \"The dies are: \"\n"
     ]
    },
    {
     "data": {
      "text/html": [
       "<ol class=list-inline>\n",
       "\t<li>2</li>\n",
       "\t<li>5</li>\n",
       "\t<li>1</li>\n",
       "</ol>\n"
      ],
      "text/latex": [
       "\\begin{enumerate*}\n",
       "\\item 2\n",
       "\\item 5\n",
       "\\item 1\n",
       "\\end{enumerate*}\n"
      ],
      "text/markdown": [
       "1. 2\n",
       "2. 5\n",
       "3. 1\n",
       "\n",
       "\n"
      ],
      "text/plain": [
       "[1] 2 5 1"
      ]
     },
     "metadata": {},
     "output_type": "display_data"
    },
    {
     "name": "stdout",
     "output_type": "stream",
     "text": [
      "[1] \"The choice is: \"\n"
     ]
    },
    {
     "data": {
      "text/html": [
       "1"
      ],
      "text/latex": [
       "1"
      ],
      "text/markdown": [
       "1"
      ],
      "text/plain": [
       "[1] 1"
      ]
     },
     "metadata": {},
     "output_type": "display_data"
    },
    {
     "name": "stdout",
     "output_type": "stream",
     "text": [
      "[1] \"Player1 gained\"\n"
     ]
    },
    {
     "data": {
      "text/html": [
       "1"
      ],
      "text/latex": [
       "1"
      ],
      "text/markdown": [
       "1"
      ],
      "text/plain": [
       "[1] 1"
      ]
     },
     "metadata": {},
     "output_type": "display_data"
    }
   ],
   "source": [
    "dice <- floor(runif(3,min=1,max=7))\n",
    "player1 <- floor(runif(1,min=1,max=7))\n",
    "gain = gain(player1,dice)\n",
    "print(\"The dies are: \")\n",
    "dice\n",
    "print(\"The choice is: \")\n",
    "player1\n",
    "print(\"Player1 gained\")\n",
    "gain[1]"
   ]
  },
  {
   "cell_type": "code",
   "execution_count": 115,
   "metadata": {
    "scrolled": true
   },
   "outputs": [
    {
     "name": "stdout",
     "output_type": "stream",
     "text": [
      "[1] \"The dies are: \"\n"
     ]
    },
    {
     "data": {
      "text/html": [
       "<ol class=list-inline>\n",
       "\t<li>6</li>\n",
       "\t<li>4</li>\n",
       "\t<li>2</li>\n",
       "</ol>\n"
      ],
      "text/latex": [
       "\\begin{enumerate*}\n",
       "\\item 6\n",
       "\\item 4\n",
       "\\item 2\n",
       "\\end{enumerate*}\n"
      ],
      "text/markdown": [
       "1. 6\n",
       "2. 4\n",
       "3. 2\n",
       "\n",
       "\n"
      ],
      "text/plain": [
       "[1] 6 4 2"
      ]
     },
     "metadata": {},
     "output_type": "display_data"
    },
    {
     "name": "stdout",
     "output_type": "stream",
     "text": [
      "[1] \"The choice is: \"\n"
     ]
    },
    {
     "data": {
      "text/html": [
       "<ol class=list-inline>\n",
       "\t<li>4</li>\n",
       "\t<li>2</li>\n",
       "</ol>\n"
      ],
      "text/latex": [
       "\\begin{enumerate*}\n",
       "\\item 4\n",
       "\\item 2\n",
       "\\end{enumerate*}\n"
      ],
      "text/markdown": [
       "1. 4\n",
       "2. 2\n",
       "\n",
       "\n"
      ],
      "text/plain": [
       "[1] 4 2"
      ]
     },
     "metadata": {},
     "output_type": "display_data"
    },
    {
     "name": "stdout",
     "output_type": "stream",
     "text": [
      "[1] \"Player2 gained\"\n"
     ]
    },
    {
     "data": {
      "text/html": [
       "2"
      ],
      "text/latex": [
       "2"
      ],
      "text/markdown": [
       "2"
      ],
      "text/plain": [
       "[1] 2"
      ]
     },
     "metadata": {},
     "output_type": "display_data"
    }
   ],
   "source": [
    "dice <- floor(runif(3,min=1,max=7))\n",
    "player2 <- sample(1:6,2,replace=F)\n",
    "gain = gain(player2,dice)\n",
    "print(\"The dies are: \")\n",
    "dice\n",
    "print(\"The choice is: \")\n",
    "player2\n",
    "print(\"Player2 gained\")\n",
    "gain[1]"
   ]
  },
  {
   "cell_type": "markdown",
   "metadata": {},
   "source": [
    "### In a long run, which player would win/lose more?\n",
    "When we play the game, it feels like we always lose when we bet on one every time; most of the time 0 gain and sometimes gain/lose 2 dollars when we bet on two. It seems betting on two is a better strategy.\n",
    "\n",
    "Here we run the game similation on 1000000 times and see what's the result:"
   ]
  },
  {
   "cell_type": "code",
   "execution_count": 113,
   "metadata": {},
   "outputs": [
    {
     "name": "stdout",
     "output_type": "stream",
     "text": [
      "[1] \"Player1 gains on average: \"\n"
     ]
    },
    {
     "data": {
      "text/html": [
       "-0.080198"
      ],
      "text/latex": [
       "-0.080198"
      ],
      "text/markdown": [
       "-0.080198"
      ],
      "text/plain": [
       "[1] -0.080198"
      ]
     },
     "metadata": {},
     "output_type": "display_data"
    },
    {
     "name": "stdout",
     "output_type": "stream",
     "text": [
      "[1] \"Prob of Player1 getting at least 1 correct\"\n"
     ]
    },
    {
     "data": {
      "text/html": [
       "0.42062"
      ],
      "text/latex": [
       "0.42062"
      ],
      "text/markdown": [
       "0.42062"
      ],
      "text/plain": [
       "[1] 0.42062"
      ]
     },
     "metadata": {},
     "output_type": "display_data"
    }
   ],
   "source": [
    "# Player1\n",
    "total_score = 0\n",
    "at_least_one_match_count = 0\n",
    "for (i in c(1:1000000)){\n",
    "  dice <- floor(runif(3,min=1,max=7))\n",
    "  player1 <- floor(runif(1,min=1,max=7))\n",
    "  score = gain(player1,dice)\n",
    "  total_score = total_score + score[1]\n",
    "  at_least_one_match_count = at_least_one_match_count + score[2]\n",
    "}\n",
    "average_score = total_score / 1000000.0\n",
    "print(\"Player1 gains on average: \")\n",
    "average_score\n",
    "print(\"Prob of Player1 getting at least 1 correct\")\n",
    "prob_at_least_one = at_least_one_match_count / 1000000.0\n",
    "prob_at_least_one"
   ]
  },
  {
   "cell_type": "code",
   "execution_count": 114,
   "metadata": {},
   "outputs": [
    {
     "name": "stdout",
     "output_type": "stream",
     "text": [
      "[1] \"Player2 gains on average: \"\n"
     ]
    },
    {
     "data": {
      "text/html": [
       "-0.156995"
      ],
      "text/latex": [
       "-0.156995"
      ],
      "text/markdown": [
       "-0.156995"
      ],
      "text/plain": [
       "[1] -0.156995"
      ]
     },
     "metadata": {},
     "output_type": "display_data"
    },
    {
     "name": "stdout",
     "output_type": "stream",
     "text": [
      "[1] \"Prob of Player2 getting at least 1 correct\"\n"
     ]
    },
    {
     "data": {
      "text/html": [
       "0.703788"
      ],
      "text/latex": [
       "0.703788"
      ],
      "text/markdown": [
       "0.703788"
      ],
      "text/plain": [
       "[1] 0.703788"
      ]
     },
     "metadata": {},
     "output_type": "display_data"
    }
   ],
   "source": [
    "# Player2\n",
    "total_score = 0\n",
    "at_least_one_match_count = 0\n",
    "for (i in c(1:1000000)){\n",
    "  dice <- floor(runif(3,min=1,max=7))\n",
    "  player2 <- sample(1:6,2,replace=F)\n",
    "  score = gain(player2,dice)\n",
    "  total_score = total_score + score[1]\n",
    "  at_least_one_match_count = at_least_one_match_count + score[2]\n",
    "}\n",
    "average_score = total_score / 1000000.0\n",
    "print(\"Player2 gains on average: \")\n",
    "average_score\n",
    "prob_at_least_one = at_least_one_match_count / 1000000.0\n",
    "print(\"Prob of Player2 getting at least 1 correct\")\n",
    "prob_at_least_one"
   ]
  },
  {
   "cell_type": "markdown",
   "metadata": {},
   "source": [
    "The result tells us the average loss is smaller when we bet on one. But why do we feel the other way?\n",
    "\n",
    "In fact, when we bet on one number each time, the probability of getting at least one correct is $1-\\frac{5}{6} * \\frac{5}{6} * \\frac{5}{6} = 0.421$, which is smaller than 0.5 so more than half the time you think you have lost.\n",
    "\n",
    "When we bet on two different numbers each time, the probability of getting at least one correct is $1-\\frac{4}{6} * \\frac{4}{6} * \\frac{4}{6} = 0.704$, which is greater than 0.5 so more than half the time you think you didn't lose."
   ]
  },
  {
   "cell_type": "markdown",
   "metadata": {},
   "source": [
    "### Calculating the probabilites and expected values\n",
    "#### Player1: betting on only one number each time\n",
    "Prob(gaining 1 dollar) =  $ \\frac{1}{6} * \\frac{5}{6} * \\frac{5}{6} * 3 $  = 0.3472\n",
    "\n",
    "Prob(gaining 2 dollars) =  $ \\frac{1}{6} * \\frac{1}{6} * \\frac{5}{6} * 3 $  = 0.06944\n",
    "\n",
    "Prob(gaining 3 dollars) =  $ \\frac{1}{6} * \\frac{1}{6} * \\frac{1}{6} $  = 0.0046296\n",
    "\n",
    "Expected value = $(-1)*(1-0.421) + 1*0.3472 + 2*0.06944 + 3*0.0046296 = -0.07873$"
   ]
  },
  {
   "cell_type": "markdown",
   "metadata": {},
   "source": [
    "#### Player2: betting on two different numbers each time\n",
    "Prob(gaining 0 dollar) =  $ \\frac{1}{6} * \\frac{4}{6} * \\frac{4}{6} * 6 $  = 0.444\n",
    "\n",
    "Prob(gaining 1 dollar) =  $ \\frac{1}{6} * \\frac{1}{6} * \\frac{4}{6} * 6 $  = 0.111\n",
    "\n",
    "Prob(gaining 2 dollars) =  $ \\frac{1}{6} * \\frac{1}{6} * \\frac{4}{6} * 6 + \\frac{1}{6} * \\frac{1}{6} * \\frac{1}{6} * 2 $  = 0.120\n",
    "\n",
    "Prob(gaining 3 dollars) =  $ \\frac{1}{6} * \\frac{1}{6} * \\frac{1}{6} * 6 $  = 0.027778\n",
    "\n",
    "Expected value = $(-2)*(1-0.704) + 0*0.4444 + 1*0.1111 + 2*0.120 + 3*0.027778 = -0.1584$"
   ]
  },
  {
   "cell_type": "code",
   "execution_count": null,
   "metadata": {},
   "outputs": [],
   "source": []
  }
 ],
 "metadata": {
  "kernelspec": {
   "display_name": "R",
   "language": "R",
   "name": "ir"
  },
  "language_info": {
   "codemirror_mode": "r",
   "file_extension": ".r",
   "mimetype": "text/x-r-source",
   "name": "R",
   "pygments_lexer": "r",
   "version": "3.6.1"
  }
 },
 "nbformat": 4,
 "nbformat_minor": 2
}
